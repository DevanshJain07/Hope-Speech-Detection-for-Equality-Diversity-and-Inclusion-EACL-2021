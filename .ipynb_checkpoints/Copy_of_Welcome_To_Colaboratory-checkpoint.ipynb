{
 "cells": [
  {
   "cell_type": "code",
   "execution_count": null,
   "metadata": {
    "id": "T5gl5cMjk9Xp"
   },
   "outputs": [],
   "source": [
    "import pandas as pd\n",
    "import matplotlib.pyplot as plt\n",
    "import numpy as np"
   ]
  },
  {
   "cell_type": "code",
   "execution_count": null,
   "metadata": {
    "id": "NSutkE-JpNLl"
   },
   "outputs": [],
   "source": [
    "df = pd.read_csv('english_hope_train.csv')"
   ]
  },
  {
   "cell_type": "code",
   "execution_count": null,
   "metadata": {
    "colab": {
     "base_uri": "https://localhost:8080/",
     "height": 399
    },
    "id": "GNOPJXlAqhPy",
    "outputId": "6ad7863a-9f6c-467f-f7a6-e35466b4c4d3"
   },
   "outputs": [
    {
     "data": {
      "text/html": [
       "<div>\n",
       "<style scoped>\n",
       "    .dataframe tbody tr th:only-of-type {\n",
       "        vertical-align: middle;\n",
       "    }\n",
       "\n",
       "    .dataframe tbody tr th {\n",
       "        vertical-align: top;\n",
       "    }\n",
       "\n",
       "    .dataframe thead th {\n",
       "        text-align: right;\n",
       "    }\n",
       "</style>\n",
       "<table border=\"1\" class=\"dataframe\">\n",
       "  <thead>\n",
       "    <tr style=\"text-align: right;\">\n",
       "      <th></th>\n",
       "      <th>these tiktoks radiate gay chaotic energy and i love it</th>\n",
       "      <th>Non_hope_speech</th>\n",
       "    </tr>\n",
       "  </thead>\n",
       "  <tbody>\n",
       "    <tr>\n",
       "      <th>0</th>\n",
       "      <td>@Champions Again He got killed for using false...</td>\n",
       "      <td>Non_hope_speech</td>\n",
       "    </tr>\n",
       "    <tr>\n",
       "      <th>1</th>\n",
       "      <td>It's not that all lives don't matter</td>\n",
       "      <td>Non_hope_speech</td>\n",
       "    </tr>\n",
       "    <tr>\n",
       "      <th>2</th>\n",
       "      <td>Is it really that difficult to understand? Bla...</td>\n",
       "      <td>Non_hope_speech</td>\n",
       "    </tr>\n",
       "    <tr>\n",
       "      <th>3</th>\n",
       "      <td>Whenever we say black isn't that racists?  Why...</td>\n",
       "      <td>Non_hope_speech</td>\n",
       "    </tr>\n",
       "    <tr>\n",
       "      <th>4</th>\n",
       "      <td>Ros The Boss u don’t know that she’s actually ...</td>\n",
       "      <td>Non_hope_speech</td>\n",
       "    </tr>\n",
       "    <tr>\n",
       "      <th>...</th>\n",
       "      <td>...</td>\n",
       "      <td>...</td>\n",
       "    </tr>\n",
       "    <tr>\n",
       "      <th>22756</th>\n",
       "      <td>It's a load of bollocks every life matters sim...</td>\n",
       "      <td>Non_hope_speech</td>\n",
       "    </tr>\n",
       "    <tr>\n",
       "      <th>22757</th>\n",
       "      <td>no say it because all lives matter! deku would...</td>\n",
       "      <td>Non_hope_speech</td>\n",
       "    </tr>\n",
       "    <tr>\n",
       "      <th>22758</th>\n",
       "      <td>God says her life matters</td>\n",
       "      <td>Non_hope_speech</td>\n",
       "    </tr>\n",
       "    <tr>\n",
       "      <th>22759</th>\n",
       "      <td>This video is just shit. A bunch of whiny ass ...</td>\n",
       "      <td>Non_hope_speech</td>\n",
       "    </tr>\n",
       "    <tr>\n",
       "      <th>22760</th>\n",
       "      <td>Mc Fortnut2821 she did 4 months ago in west ch...</td>\n",
       "      <td>Non_hope_speech</td>\n",
       "    </tr>\n",
       "  </tbody>\n",
       "</table>\n",
       "<p>22761 rows × 2 columns</p>\n",
       "</div>"
      ],
      "text/plain": [
       "      these tiktoks radiate gay chaotic energy and i love it  Non_hope_speech\n",
       "0      @Champions Again He got killed for using false...      Non_hope_speech\n",
       "1                   It's not that all lives don't matter      Non_hope_speech\n",
       "2      Is it really that difficult to understand? Bla...      Non_hope_speech\n",
       "3      Whenever we say black isn't that racists?  Why...      Non_hope_speech\n",
       "4      Ros The Boss u don’t know that she’s actually ...      Non_hope_speech\n",
       "...                                                  ...                  ...\n",
       "22756  It's a load of bollocks every life matters sim...      Non_hope_speech\n",
       "22757  no say it because all lives matter! deku would...      Non_hope_speech\n",
       "22758                          God says her life matters      Non_hope_speech\n",
       "22759  This video is just shit. A bunch of whiny ass ...      Non_hope_speech\n",
       "22760  Mc Fortnut2821 she did 4 months ago in west ch...      Non_hope_speech\n",
       "\n",
       "[22761 rows x 2 columns]"
      ]
     },
     "execution_count": 16,
     "metadata": {
      "tags": []
     },
     "output_type": "execute_result"
    }
   ],
   "source": [
    "df"
   ]
  },
  {
   "cell_type": "code",
   "execution_count": null,
   "metadata": {
    "colab": {
     "base_uri": "https://localhost:8080/",
     "height": 36
    },
    "id": "uOaeC3VRzuhV",
    "outputId": "659cc7c0-a12c-4bbe-fcd6-6ca898795e74"
   },
   "outputs": [
    {
     "data": {
      "application/vnd.google.colaboratory.intrinsic+json": {
       "type": "string"
      },
      "text/plain": [
       "'Non_hope_speech'"
      ]
     },
     "execution_count": 18,
     "metadata": {
      "tags": []
     },
     "output_type": "execute_result"
    }
   ],
   "source": [
    "df.iloc[0,1]"
   ]
  },
  {
   "cell_type": "code",
   "execution_count": null,
   "metadata": {
    "colab": {
     "base_uri": "https://localhost:8080/",
     "height": 36
    },
    "id": "24QfXVwfMrqR",
    "outputId": "3f84994a-4514-4294-adfc-f602617cff00"
   },
   "outputs": [
    {
     "data": {
      "application/vnd.google.colaboratory.intrinsic+json": {
       "type": "string"
      },
      "text/plain": [
       "\"It's not that all lives don't matter\""
      ]
     },
     "execution_count": 27,
     "metadata": {
      "tags": []
     },
     "output_type": "execute_result"
    }
   ],
   "source": [
    "df['these tiktoks radiate gay chaotic energy and i love it'][1]"
   ]
  },
  {
   "cell_type": "code",
   "execution_count": null,
   "metadata": {
    "id": "t5EmKomZwwe5"
   },
   "outputs": [],
   "source": [
    "from sklearn.feature_extraction.text import CountVectorizer\n",
    "cv = CountVectorizer(max_features = 1500)\n",
    "X = cv.fit_transform(df.iloc[:, :-1]).toarray()\n",
    "y = df.iloc[:, -1].values"
   ]
  },
  {
   "cell_type": "code",
   "execution_count": null,
   "metadata": {
    "colab": {
     "base_uri": "https://localhost:8080/"
    },
    "id": "Uk7dxMfM3Vld",
    "outputId": "9fe4686b-70f0-43ea-a2d7-e88e97f34054"
   },
   "outputs": [
    {
     "data": {
      "text/plain": [
       "array(['Non_hope_speech', 'Non_hope_speech', 'Non_hope_speech', ...,\n",
       "       'Non_hope_speech', 'Non_hope_speech', 'Non_hope_speech'],\n",
       "      dtype=object)"
      ]
     },
     "execution_count": 25,
     "metadata": {
      "tags": []
     },
     "output_type": "execute_result"
    }
   ],
   "source": [
    "y"
   ]
  },
  {
   "cell_type": "markdown",
   "metadata": {
    "id": "fXqhhyESdXzP"
   },
   "source": [
    "# **Cleaning** **dataset**"
   ]
  },
  {
   "cell_type": "code",
   "execution_count": null,
   "metadata": {
    "colab": {
     "base_uri": "https://localhost:8080/"
    },
    "id": "2P3GkhQ2tSwM",
    "outputId": "26128cfb-5abb-4a62-8c39-5adc5d74f7b0"
   },
   "outputs": [
    {
     "name": "stdout",
     "output_type": "stream",
     "text": [
      "[nltk_data] Downloading package stopwords to /root/nltk_data...\n",
      "[nltk_data]   Package stopwords is already up-to-date!\n"
     ]
    }
   ],
   "source": [
    "import re\n",
    "import nltk\n",
    "nltk.download('stopwords')\n",
    "from nltk.corpus import stopwords\n",
    "from nltk.stem.porter import PorterStemmer\n",
    "corpus = []\n",
    "for i in range(0,22761):\n",
    "  review = re.sub('[^a-zA-Z]', ' ', df['these tiktoks radiate gay chaotic energy and i love it'][i])\n",
    "  review = review.lower()\n",
    "  review = review.split()\n",
    "  ps = PorterStemmer()\n",
    "  all_stopwords = stopwords.words('english')\n",
    "  all_stopwords.remove('not')\n",
    "  review = [ps.stem(word) for word in review if not word in set(all_stopwords)]\n",
    "  review = ' '.join(review)\n",
    "  corpus.append(review)"
   ]
  },
  {
   "cell_type": "code",
   "execution_count": null,
   "metadata": {
    "id": "sAcXvTCbOAFd"
   },
   "outputs": [],
   "source": [
    "from sklearn.feature_extraction.text import CountVectorizer\n",
    "cv = CountVectorizer(max_features = 1500)\n",
    "X = cv.fit_transform(corpus).toarray()\n",
    "y = df.iloc[:, -1].values"
   ]
  },
  {
   "cell_type": "code",
   "execution_count": null,
   "metadata": {
    "id": "6CZ-uuI8Oz3Z"
   },
   "outputs": [],
   "source": [
    "from sklearn.model_selection import train_test_split\n",
    "X_train, X_test, y_train, y_test = train_test_split(X, y, test_size = 0.20, random_state = 0)"
   ]
  },
  {
   "cell_type": "code",
   "execution_count": null,
   "metadata": {
    "colab": {
     "base_uri": "https://localhost:8080/"
    },
    "id": "LJ5D543VOIy-",
    "outputId": "1941097c-9612-4441-fa68-1be2d4396d5b"
   },
   "outputs": [
    {
     "data": {
      "text/plain": [
       "MultinomialNB(alpha=1.0, class_prior=None, fit_prior=True)"
      ]
     },
     "execution_count": 45,
     "metadata": {
      "tags": []
     },
     "output_type": "execute_result"
    }
   ],
   "source": [
    " from sklearn.naive_bayes import MultinomialNB\n",
    " clf = MultinomialNB()\n",
    " clf.fit(X_train, y_train)"
   ]
  },
  {
   "cell_type": "code",
   "execution_count": null,
   "metadata": {
    "id": "5BZQqKbsOXlK"
   },
   "outputs": [],
   "source": [
    "y_pred = clf.predict(X_test)"
   ]
  },
  {
   "cell_type": "code",
   "execution_count": null,
   "metadata": {
    "colab": {
     "base_uri": "https://localhost:8080/"
    },
    "id": "1UMeJFbYORCR",
    "outputId": "100a7bb8-1f27-4eb5-8c3c-8063894cad2d"
   },
   "outputs": [
    {
     "name": "stdout",
     "output_type": "stream",
     "text": [
      "[[ 168  229    0]\n",
      " [ 158 3991    2]\n",
      " [   0    5    0]]\n"
     ]
    },
    {
     "data": {
      "text/plain": [
       "0.9134636503404349"
      ]
     },
     "execution_count": 48,
     "metadata": {
      "tags": []
     },
     "output_type": "execute_result"
    }
   ],
   "source": [
    "from sklearn.metrics import confusion_matrix, accuracy_score\n",
    "cm = confusion_matrix(y_test, y_pred)\n",
    "print(cm)\n",
    "accuracy_score(y_test, y_pred)"
   ]
  }
 ],
 "metadata": {
  "colab": {
   "collapsed_sections": [],
   "name": "Copy of Welcome To Colaboratory",
   "provenance": [],
   "toc_visible": true
  },
  "kernelspec": {
   "display_name": "Python 3",
   "language": "python",
   "name": "python3"
  },
  "language_info": {
   "codemirror_mode": {
    "name": "ipython",
    "version": 3
   },
   "file_extension": ".py",
   "mimetype": "text/x-python",
   "name": "python",
   "nbconvert_exporter": "python",
   "pygments_lexer": "ipython3",
   "version": "3.7.4"
  }
 },
 "nbformat": 4,
 "nbformat_minor": 1
}
